{
 "cells": [
  {
   "cell_type": "code",
   "execution_count": 1,
   "metadata": {},
   "outputs": [
    {
     "name": "stdout",
     "output_type": "stream",
     "text": [
      "l\tFalse\n",
      "o\tTrue\n",
      "s\tFalse\n",
      "e\tTrue\n"
     ]
    }
   ],
   "source": [
    "#Task 2 : 2.2 Write a Python function which checks inout for vowel or not \n",
    "def check_vowel(fletter):\n",
    "    vowel_list = [\"a\",\"e\",\"i\",\"o\",\"u\"]\n",
    "    if fletter in vowel_list :\n",
    "        return True\n",
    "    else:\n",
    "        return False\n",
    "\n",
    "wordlist=[\"l\", \"o\", \"s\", \"e\"]\n",
    "for x in wordlist:\n",
    "    print(x + \"\\t\" + str(check_vowel(x)))"
   ]
  },
  {
   "cell_type": "code",
   "execution_count": 2,
   "metadata": {},
   "outputs": [
    {
     "name": "stdout",
     "output_type": "stream",
     "text": [
      "[4, 26, 21, 11]\n"
     ]
    }
   ],
   "source": [
    "#Task 2 : 2.1 Write a function that maps list of words into a list of integers\n",
    "newlist=[]\n",
    "def map_words(fwordlist):\n",
    "    for x in fwordlist :\n",
    "        newlist.append(len(x))\n",
    "    return newlist\n",
    "\n",
    "wordlist=[\"test\", \"wonderfulworld of wizards2\", \"shawshank redemption3\", \"bumble bee4\"]\n",
    "print(map_words(wordlist))"
   ]
  },
  {
   "cell_type": "code",
   "execution_count": 3,
   "metadata": {},
   "outputs": [
    {
     "name": "stdout",
     "output_type": "stream",
     "text": [
      "['wonderfulworld of wizards']\n"
     ]
    }
   ],
   "source": [
    "#Task 2 : 1.2 Write a function filter_long_words() that returns the list of words that are longer than n.\n",
    "newlist=[]\n",
    "def filter_long_words(fwordlist, fn):\n",
    "    for x in fwordlist :\n",
    "        if len(x) > fn :\n",
    "            newlist.append(x)\n",
    "    return newlist\n",
    "\n",
    "wordlist=[\"test\", \"wonderfulworld of wizards\", \"shawshank redemption\", \"bumble bee\"]\n",
    "n =  20\n",
    "print(filter_long_words(wordlist, n))\n"
   ]
  },
  {
   "cell_type": "code",
   "execution_count": 9,
   "metadata": {},
   "outputs": [
    {
     "name": "stdout",
     "output_type": "stream",
     "text": [
      "Class to to find the area of the triangle using (s*(s-a)*(s-b)*(s-c)) ** 0.5\n",
      "Enter the 3 sides of the traingle separated by comma : 20,30,40\n",
      "290.4737509655563\n"
     ]
    }
   ],
   "source": [
    "#Task 2 : 1.1 Write a Python Program(with class concepts) to find the area of the triangle using the formula.\n",
    "#area = (s*(s-a)*(s-b)*(s-c)) ** 0.5\n",
    "class AreaTriangle:\n",
    "    \"Class to to find the area of the triangle using (s*(s-a)*(s-b)*(s-c)) ** 0.5\"\n",
    "    def areafunc(a, b, c):\n",
    "        s = 0.0\n",
    "        perimeter = 0.0\n",
    "        area = 0.0\n",
    "        perimeter = (a + b + c)\n",
    "        s = perimeter/2\n",
    "        area = (float) (s*(s-a)*(s-b)*(s-c)) ** 0.5 \n",
    "        return area\n",
    "\n",
    "def inputfunc():    \n",
    "    s1,s2,s3 = [int(x) for x in input(\"Enter the 3 sides of the traingle separated by comma : \").split(',')]\n",
    "    sides = [s1,s2,s3]\n",
    "    return sides\n",
    "\n",
    "print(AreaTriangle.__doc__)\n",
    "sides = inputfunc()\n",
    "print(AreaTriangle.areafunc(sides[0], sides[1], sides[2]))\n"
   ]
  },
  {
   "cell_type": "code",
   "execution_count": 5,
   "metadata": {},
   "outputs": [
    {
     "name": "stdout",
     "output_type": "stream",
     "text": [
      "10\n",
      "24\n",
      "4\n",
      "1\n",
      "hellogeeks\n",
      "24\n"
     ]
    }
   ],
   "source": [
    "########  Task 1: 1.1   myreduce\n",
    "def myreduce(arifunc, myseq):\n",
    "     first = myseq[0]\n",
    "     for i in myseq[1:]:\n",
    "        first = arifunc(first, i)\n",
    "     return first\n",
    "\n",
    "def do_sum(arg1, arg2): \n",
    "    return arg1 + arg2\n",
    "\n",
    "def do_multi(arg1, arg2): \n",
    "    return arg1 * arg2\n",
    "\n",
    "def findmax(arg1, arg2):\n",
    "    if (arg1 > arg2):\n",
    "        return arg1\n",
    "    else:\n",
    "        return arg2\n",
    "    \n",
    "def findleast(arg1, arg2):\n",
    "    if (arg1 <= arg2):\n",
    "        return arg1\n",
    "    else:\n",
    "        return arg2\n",
    "    \n",
    "def do_multi(arg1, arg2): \n",
    "    return arg1 * arg2\n",
    "\n",
    "def do_facto(arg1, arg2):\n",
    "    return do_multi(arg1, arg2)\n",
    "\n",
    "my_list = [1, 2, 3, 4]\n",
    "my_list2=[\"hello\", \"geeks\"]\n",
    "print(myreduce(do_sum, my_list))\n",
    "print(myreduce(do_multi, my_list))\n",
    "print(myreduce(findmax, my_list))\n",
    "print(myreduce(findleast, my_list))\n",
    "print(myreduce(do_sum, my_list2))\n",
    "print(myreduce(do_facto, my_list))"
   ]
  },
  {
   "cell_type": "code",
   "execution_count": 6,
   "metadata": {},
   "outputs": [
    {
     "name": "stdout",
     "output_type": "stream",
     "text": [
      "[18, 24, 32]\n",
      "['a', 'e']\n"
     ]
    }
   ],
   "source": [
    "########  Task 1:  1.2    myfilter \n",
    "def myfilter(somefunc, myiter):\n",
    "     newiter = []\n",
    "     for i in myiter[0:]:\n",
    "        if somefunc(i):\n",
    "            newiter.append(i)\n",
    "     return newiter\n",
    " \n",
    "def myFunc(x):\n",
    "  if x < 18:\n",
    "    return False\n",
    "  else:\n",
    "    return True\n",
    "\n",
    "def ret_vowel(x): \n",
    "    if (x in  ['a', 'e', 'i', 'o', 'u']):\n",
    "        return True\n",
    "    else:\n",
    "        return False\n",
    "\n",
    "ages = [5, 12, 17, 18, 24, 32]\n",
    "my_list2 = ['a', 'b','c', 'c', 'e']\n",
    "print(myfilter(myFunc, ages))\n",
    "print(myfilter(ret_vowel, my_list2))"
   ]
  },
  {
   "cell_type": "code",
   "execution_count": 8,
   "metadata": {},
   "outputs": [
    {
     "name": "stdout",
     "output_type": "stream",
     "text": [
      "['A', 'C', 'A', 'D', 'G', 'I', 'L', 'D']\n",
      "['x', 'xx', 'xxx', 'xxxx', 'y', 'yy', 'yyy', 'yyyy', 'z', 'zz', 'zzz', 'zzzz']\n",
      "['x', 'y', 'z', 'xx', 'yy', 'zz', 'xxx', 'yyy', 'zzz', 'xxxx', 'yyyy', 'zzzz']\n",
      "[[2], [3], [4], [3], [4], [5], [4], [5], [6]]\n",
      "[[2, 3, 4, 5], [3, 4, 5, 6], [4, 5, 6, 7], [5, 6, 7, 8]]\n",
      "[(1, 1), (2, 1), (3, 1), (1, 2), (2, 2), (3, 2), (1, 3), (2, 3), (3, 3)]\n"
     ]
    }
   ],
   "source": [
    "# Task 1: 2 Write List comprehensions to produce the following Lists\n",
    "#['A', 'C', 'A', 'D', 'G', 'I', ’L’, ‘ D’]\n",
    "myStr = \"ACADGILD\"\n",
    "list1 = [i for i in myStr]\n",
    "print(list1)\n",
    "\n",
    "#Write List comprehensions to produce the following Lists\n",
    "#['x', 'xx', 'xxx', 'xxxx', 'y', 'yy', 'yyy', 'yyyy', 'z', 'zz', 'zzz', 'zzzz']\n",
    "myStr = \"xyz\"\n",
    "list1 = [j*i for i in myStr for j in range(1,5)]\n",
    "print(list1)\n",
    "\n",
    "#Write List comprehensions to produce the following Lists\n",
    "#['x', 'y', 'z', 'xx', 'yy', 'zz', 'xx', 'yy', 'zz', 'xxxx', 'yyyy', 'zzzz']\n",
    "myStr = \"xyz\"\n",
    "list1 = [j*i for j in range(1,5) for i in myStr]\n",
    "print(list1)\n",
    "\n",
    "#Write List comprehensions to produce the following Lists\n",
    "#[[2], [3], [4], [3], [4], [5], [4], [5], [6]]\n",
    "\n",
    "list1 = [[i+j] for j in (0, 1,2) for i in range(2,5) ]\n",
    "print(list1)\n",
    "\n",
    "#Write List comprehensions to produce the following Lists\n",
    "#[[2, 3, 4, 5], [3, 4, 5, 6], [4, 5, 6, 7], [5, 6, 7, 8]]\n",
    "\n",
    "list1 = [[i, i+1, i+2, i+3] for i in range(2,6)]\n",
    "print(list1)\n",
    "\n",
    "#Write List comprehensions to produce the following Lists\n",
    "#[(1, 1), (2, 1), (3, 1), (1, 2), (2, 2), (3, 2), (1, 3), (2, 3), (3, 3)]\n",
    "\n",
    "list1 = [(j, i) for i in range(1,4) for j in range(1,4)]\n",
    "print(list1)"
   ]
  },
  {
   "cell_type": "code",
   "execution_count": 7,
   "metadata": {},
   "outputs": [
    {
     "name": "stdout",
     "output_type": "stream",
     "text": [
      "['Toortestword', 'shortestword']\n"
     ]
    }
   ],
   "source": [
    "#Task 1: 3 Implement a function longestWord() that takes a list of words and returns the longest one.\n",
    "def longestWord(wordlist):\n",
    "    lw = wordlist[0]\n",
    "    finallist = []\n",
    "    listlen = len(wordlist)\n",
    "    \n",
    "    for i in range(1, listlen):\n",
    "        if len(wordlist[i]) > len(lw):\n",
    "            lw = wordlist[i]\n",
    "        elif len(wordlist[i]) == len(lw):\n",
    "            finallist.append(wordlist[i])\n",
    "      \n",
    "    finallist.append(lw)\n",
    "    return finallist\n",
    "mylist=[\"shortestword\", \"test\", \"longestword\", \"longerword\", \"xvxvnxcvxc\", \"Toortestword\",'a']\n",
    "\n",
    "print(longestWord(mylist))"
   ]
  },
  {
   "cell_type": "code",
   "execution_count": null,
   "metadata": {},
   "outputs": [],
   "source": []
  }
 ],
 "metadata": {
  "kernelspec": {
   "display_name": "Python 3",
   "language": "python",
   "name": "python3"
  },
  "language_info": {
   "codemirror_mode": {
    "name": "ipython",
    "version": 3
   },
   "file_extension": ".py",
   "mimetype": "text/x-python",
   "name": "python",
   "nbconvert_exporter": "python",
   "pygments_lexer": "ipython3",
   "version": "3.7.6"
  }
 },
 "nbformat": 4,
 "nbformat_minor": 4
}
